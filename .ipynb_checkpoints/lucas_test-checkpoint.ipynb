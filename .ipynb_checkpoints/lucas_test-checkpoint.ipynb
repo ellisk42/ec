{
 "cells": [
  {
   "cell_type": "code",
   "execution_count": 1,
   "metadata": {},
   "outputs": [],
   "source": [
    "from dreamcoder.domains.draw.main import dreamFromGrammar\n",
    "from dreamcoder.domains.draw.drawPrimitives import _blankAxes as ba\n",
    "from matplotlib import pyplot as plt"
   ]
  },
  {
   "cell_type": "code",
   "execution_count": 2,
   "metadata": {
    "scrolled": false
   },
   "outputs": [
    {
     "name": "stdout",
     "output_type": "stream",
     "text": [
      "(lambda $0)\n",
      "(lambda $0)\n",
      "(lambda (draw $0 (transform (reflect (circle dummy) angle2) scale0 angle5 dist8 dist0 rts)))\n",
      "(lambda $0)\n",
      "(lambda (draw $0 (transform (transform (circle dummy) scale7 angle5 dist8 dist3 srt) scale4 angle0 dist6 dist2 rst)))\n",
      "(lambda (draw $0 (transform (reflect (transform (transform (transform (circle dummy) scale5 angle7 dist5 dist2 str) scale9 angle5 dist3 dist6 trs) scale4 angle4 dist8 dist1 trs) angle2) scale5 angle3 dist5 dist6 rst)))\n",
      "(lambda $0)\n",
      "(lambda (draw (draw (draw (draw (draw $0 (line dummy)) (reflect (circle dummy) angle4)) (reflect (reflect (line dummy) angle1) angle5)) (reflect (transform (reflect (circle dummy) angle2) scale8 angle3 dist1 dist6 tsr) angle5)) (line dummy)))\n",
      "(lambda $0)\n",
      "(lambda (draw (draw $0 (reflect (line dummy) angle4)) (reflect (reflect (reflect (transform (circle dummy) scale7 angle1 dist5 dist5 trs) angle4) angle7) angle1)))\n",
      "(lambda (draw $0 (transform (reflect (reflect (line dummy) angle4) angle1) scale7 angle4 dist0 dist4 trs)))\n",
      "(lambda $0)\n",
      "(lambda (draw $0 (line dummy)))\n",
      "(lambda $0)\n",
      "(lambda $0)\n",
      "(lambda $0)\n",
      "(lambda (draw $0 (line dummy)))\n",
      "(lambda (draw $0 (transform (line dummy) scale8 angle4 dist8 dist6 rst)))\n",
      "(lambda (draw (draw $0 (line dummy)) (transform (reflect (reflect (reflect (circle dummy) angle6) angle0) angle4) scale6 angle2 dist1 dist4 rts)))\n",
      "(lambda (draw $0 (line dummy)))\n",
      "(lambda (draw $0 (circle dummy)))\n",
      "(lambda $0)\n",
      "(lambda $0)\n",
      "(lambda $0)\n",
      "(lambda (draw $0 (circle dummy)))\n",
      "(lambda (draw (draw (draw $0 (line dummy)) (circle dummy)) (line dummy)))\n",
      "(lambda $0)\n",
      "(lambda $0)\n",
      "(lambda (draw (draw (draw (draw $0 (reflect (line dummy) angle3)) (transform (reflect (transform (reflect (transform (line dummy) scale8 angle2 dist2 dist0 tsr) angle4) scale1 angle7 dist4 dist3 trs) angle7) scale1 angle3 dist0 dist6 trs)) (reflect (reflect (transform (transform (transform (reflect (circle dummy) angle4) scale4 angle3 dist5 dist3 rst) scale2 angle7 dist4 dist1 str) scale3 angle4 dist5 dist0 srt) angle1) angle3)) (transform (circle dummy) scale4 angle6 dist6 dist7 str)))\n",
      "(lambda $0)\n",
      "(lambda (draw $0 (reflect (line dummy) angle2)))\n",
      "(lambda $0)\n",
      "(lambda (draw $0 (reflect (line dummy) angle1)))\n",
      "(lambda $0)\n",
      "(lambda $0)\n",
      "(lambda $0)\n",
      "(lambda $0)\n",
      "(lambda (draw $0 (transform (reflect (circle dummy) angle4) scale4 angle3 dist2 dist3 rts)))\n",
      "(lambda (draw (draw (draw $0 (line dummy)) (reflect (circle dummy) angle4)) (transform (transform (transform (transform (reflect (transform (reflect (line dummy) angle2) scale8 angle4 dist1 dist6 str) angle7) scale3 angle1 dist3 dist0 tsr) scale3 angle4 dist2 dist7 srt) scale7 angle5 dist5 dist3 rst) scale6 angle1 dist0 dist3 str)))\n",
      "(lambda (draw $0 (line dummy)))\n",
      "(lambda $0)\n",
      "(lambda $0)\n",
      "(lambda $0)\n",
      "(lambda (draw (draw (draw (draw $0 (reflect (circle dummy) angle7)) (transform (line dummy) scale1 angle4 dist7 dist7 rts)) (circle dummy)) (circle dummy)))\n",
      "(lambda $0)\n",
      "(lambda (draw (draw (draw $0 (reflect (reflect (transform (circle dummy) scale6 angle4 dist3 dist5 srt) angle1) angle4)) (circle dummy)) (transform (line dummy) scale9 angle1 dist5 dist4 rst)))\n",
      "(lambda $0)\n",
      "(lambda (draw (draw $0 (line dummy)) (reflect (reflect (reflect (transform (line dummy) scale0 angle1 dist1 dist8 rst) angle5) angle0) angle7)))\n",
      "(lambda (draw (draw (draw $0 (transform (transform (line dummy) scale2 angle7 dist1 dist3 tsr) scale3 angle5 dist0 dist6 trs)) (transform (transform (circle dummy) scale7 angle4 dist7 dist8 rst) scale7 angle1 dist2 dist4 srt)) (transform (circle dummy) scale0 angle4 dist3 dist6 rst)))\n",
      "(lambda (draw (draw (draw (draw $0 (line dummy)) (transform (transform (circle dummy) scale6 angle4 dist8 dist5 srt) scale4 angle7 dist0 dist0 rts)) (line dummy)) (circle dummy)))\n"
     ]
    },
    {
     "data": {
      "text/plain": [
       "[None,\n",
       " None,\n",
       " None,\n",
       " None,\n",
       " None,\n",
       " None,\n",
       " None,\n",
       " None,\n",
       " None,\n",
       " None,\n",
       " None,\n",
       " None,\n",
       " None,\n",
       " None,\n",
       " None,\n",
       " None,\n",
       " None,\n",
       " None,\n",
       " None,\n",
       " None,\n",
       " None,\n",
       " None,\n",
       " None,\n",
       " None,\n",
       " None,\n",
       " None,\n",
       " None,\n",
       " None,\n",
       " None,\n",
       " None,\n",
       " None,\n",
       " None,\n",
       " None,\n",
       " None,\n",
       " None,\n",
       " None,\n",
       " None,\n",
       " None,\n",
       " None,\n",
       " None,\n",
       " None,\n",
       " None,\n",
       " None,\n",
       " None,\n",
       " None,\n",
       " None,\n",
       " None,\n",
       " None,\n",
       " None,\n",
       " None]"
      ]
     },
     "execution_count": 2,
     "metadata": {},
     "output_type": "execute_result"
    }
   ],
   "source": [
    "dreams = dreamFromGrammar()\n",
    "[print(\"{}\".format(i)) for i in dreams]\n"
   ]
  },
  {
   "cell_type": "code",
   "execution_count": null,
   "metadata": {},
   "outputs": [],
   "source": [
    "## try to evaluate\n",
    "dir(dreams[0])\n",
    "dreams[0].runWithArguments([])"
   ]
  },
  {
   "cell_type": "code",
   "execution_count": 3,
   "metadata": {},
   "outputs": [
    {
     "name": "stdout",
     "output_type": "stream",
     "text": [
      "(lambda $0)\n",
      "(lambda $0)\n",
      "(lambda (draw $0 (transform (reflect (circle dummy) angle2) scale0 angle5 dist8 dist0 rts)))\n",
      "(lambda $0)\n",
      "(lambda (draw $0 (transform (transform (circle dummy) scale7 angle5 dist8 dist3 srt) scale4 angle0 dist6 dist2 rst)))\n",
      "(lambda (draw $0 (transform (reflect (transform (transform (transform (circle dummy) scale5 angle7 dist5 dist2 str) scale9 angle5 dist3 dist6 trs) scale4 angle4 dist8 dist1 trs) angle2) scale5 angle3 dist5 dist6 rst)))\n",
      "(lambda $0)\n",
      "(lambda (draw (draw (draw (draw (draw $0 (line dummy)) (reflect (circle dummy) angle4)) (reflect (reflect (line dummy) angle1) angle5)) (reflect (transform (reflect (circle dummy) angle2) scale8 angle3 dist1 dist6 tsr) angle5)) (line dummy)))\n",
      "(lambda $0)\n",
      "(lambda (draw (draw $0 (reflect (line dummy) angle4)) (reflect (reflect (reflect (transform (circle dummy) scale7 angle1 dist5 dist5 trs) angle4) angle7) angle1)))\n",
      "(lambda (draw $0 (transform (reflect (reflect (line dummy) angle4) angle1) scale7 angle4 dist0 dist4 trs)))\n",
      "(lambda $0)\n",
      "(lambda (draw $0 (line dummy)))\n",
      "(lambda $0)\n",
      "(lambda $0)\n",
      "(lambda $0)\n",
      "(lambda (draw $0 (line dummy)))\n",
      "(lambda (draw $0 (transform (line dummy) scale8 angle4 dist8 dist6 rst)))\n",
      "(lambda (draw (draw $0 (line dummy)) (transform (reflect (reflect (reflect (circle dummy) angle6) angle0) angle4) scale6 angle2 dist1 dist4 rts)))\n",
      "(lambda (draw $0 (line dummy)))\n",
      "(lambda (draw $0 (circle dummy)))\n",
      "(lambda $0)\n",
      "(lambda $0)\n",
      "(lambda $0)\n",
      "(lambda (draw $0 (circle dummy)))\n",
      "(lambda (draw (draw (draw $0 (line dummy)) (circle dummy)) (line dummy)))\n",
      "(lambda $0)\n",
      "(lambda $0)\n",
      "(lambda (draw (draw (draw (draw $0 (reflect (line dummy) angle3)) (transform (reflect (transform (reflect (transform (line dummy) scale8 angle2 dist2 dist0 tsr) angle4) scale1 angle7 dist4 dist3 trs) angle7) scale1 angle3 dist0 dist6 trs)) (reflect (reflect (transform (transform (transform (reflect (circle dummy) angle4) scale4 angle3 dist5 dist3 rst) scale2 angle7 dist4 dist1 str) scale3 angle4 dist5 dist0 srt) angle1) angle3)) (transform (circle dummy) scale4 angle6 dist6 dist7 str)))\n",
      "(lambda $0)\n",
      "(lambda (draw $0 (reflect (line dummy) angle2)))\n",
      "(lambda $0)\n",
      "(lambda (draw $0 (reflect (line dummy) angle1)))\n",
      "(lambda $0)\n",
      "(lambda $0)\n",
      "(lambda $0)\n",
      "(lambda $0)\n",
      "(lambda (draw $0 (transform (reflect (circle dummy) angle4) scale4 angle3 dist2 dist3 rts)))\n",
      "(lambda (draw (draw (draw $0 (line dummy)) (reflect (circle dummy) angle4)) (transform (transform (transform (transform (reflect (transform (reflect (line dummy) angle2) scale8 angle4 dist1 dist6 str) angle7) scale3 angle1 dist3 dist0 tsr) scale3 angle4 dist2 dist7 srt) scale7 angle5 dist5 dist3 rst) scale6 angle1 dist0 dist3 str)))\n",
      "(lambda (draw $0 (line dummy)))\n",
      "(lambda $0)\n",
      "(lambda $0)\n",
      "(lambda $0)\n",
      "(lambda (draw (draw (draw (draw $0 (reflect (circle dummy) angle7)) (transform (line dummy) scale1 angle4 dist7 dist7 rts)) (circle dummy)) (circle dummy)))\n",
      "(lambda $0)\n",
      "(lambda (draw (draw (draw $0 (reflect (reflect (transform (circle dummy) scale6 angle4 dist3 dist5 srt) angle1) angle4)) (circle dummy)) (transform (line dummy) scale9 angle1 dist5 dist4 rst)))\n",
      "(lambda $0)\n",
      "(lambda (draw (draw $0 (line dummy)) (reflect (reflect (reflect (transform (line dummy) scale0 angle1 dist1 dist8 rst) angle5) angle0) angle7)))\n",
      "(lambda (draw (draw (draw $0 (transform (transform (line dummy) scale2 angle7 dist1 dist3 tsr) scale3 angle5 dist0 dist6 trs)) (transform (transform (circle dummy) scale7 angle4 dist7 dist8 rst) scale7 angle1 dist2 dist4 srt)) (transform (circle dummy) scale0 angle4 dist3 dist6 rst)))\n",
      "(lambda (draw (draw (draw (draw $0 (line dummy)) (transform (transform (circle dummy) scale6 angle4 dist8 dist5 srt) scale4 angle7 dist0 dist0 rts)) (line dummy)) (circle dummy)))\n"
     ]
    },
    {
     "data": {
      "image/png": "[encoded data removed]",
      "text/plain": [
       "<Figure size 432x288 with 50 Axes>"
      ]
     },
     "metadata": {
      "needs_background": "light"
     },
     "output_type": "display_data"
    }
   ],
   "source": [
    "# print(ax)\n",
    "plt.figure()\n",
    "\n",
    "for i, d in enumerate(dreams):\n",
    "#     ax = plt.subplot(10, 5, i+1)\n",
    "    ax = ba()\n",
    "#     ax = ba()\n",
    "#     d = dreams[0]\n",
    "#     print(d)\n",
    "    d.runWithArguments([ax])"
   ]
  },
  {
   "cell_type": "code",
   "execution_count": null,
   "metadata": {},
   "outputs": [],
   "source": []
  },
  {
   "cell_type": "code",
   "execution_count": null,
   "metadata": {},
   "outputs": [],
   "source": [
    "from dreamcoder.program import runWithTimeout\n",
    "runWithTimeout(lambda: dreams[5].evaluate([])([]), timeout=None).f()"
   ]
  },
  {
   "cell_type": "code",
   "execution_count": null,
   "metadata": {},
   "outputs": [],
   "source": [
    "# TESTING, CONFIRMING THAT THE PYTHON CODE IS FINE.\n",
    "from dreamcoder.domains.draw import drawPrimitives as dp\n",
    "\n",
    "dp._draw(dp._blankAxes(), dp._transform(dp._line(), 1.2, 1, 1, 1, \"trs\"))"
   ]
  },
  {
   "cell_type": "code",
   "execution_count": null,
   "metadata": {
    "scrolled": true
   },
   "outputs": [],
   "source": [
    "from dreamcoder.program import Program\n",
    "\n",
    "obj = Program.parse(\"(draw blankaxes line)\")\n",
    "obj.evaluate([])([])"
   ]
  }
 ],
 "metadata": {
  "kernelspec": {
   "display_name": "Python 3",
   "language": "python",
   "name": "python3"
  },
  "language_info": {
   "codemirror_mode": {
    "name": "ipython",
    "version": 3
   },
   "file_extension": ".py",
   "mimetype": "text/x-python",
   "name": "python",
   "nbconvert_exporter": "python",
   "pygments_lexer": "ipython3",
   "version": "3.7.3"
  }
 },
 "nbformat": 4,
 "nbformat_minor": 2
}
